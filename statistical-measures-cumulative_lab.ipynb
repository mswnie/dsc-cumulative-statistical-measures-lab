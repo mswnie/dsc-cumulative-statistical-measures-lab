{
 "cells": [
  {
   "cell_type": "markdown",
   "metadata": {},
   "source": [
    "# Statistical Measures - Cumulative Lab\n",
    "\n",
    "## Introduction\n",
    "\n",
    "Another section down! Let's pull together the statistical measures learned so far to analyze a dataset and produce some business recommendations.\n",
    "\n",
    "## Objectives\n",
    "\n",
    "You will be able to:\n",
    "\n",
    "* Recall the concepts and applications of measures of central tendency and dispersion\n",
    "* Practice applying and interpreting measures of central tendency and dispersion\n",
    "* Recall the concepts and applications of covariance and correlation\n",
    "* Practice applying and interpreting covariance and correlation\n",
    "\n",
    "## Your Task: Sales Data Analysis and Advertising Recommendations\n",
    "\n",
    "![business meeting](https://curriculum-content.s3.amazonaws.com/data-science/images/business_meeting.jpg)\n",
    "\n",
    "<span>Photo by <a href=\"https://unsplash.com/@sctgrhm?utm_source=unsplash&amp;utm_medium=referral&amp;utm_content=creditCopyText\">Scott Graham</a> on <a href=\"https://unsplash.com/s/photos/graph?utm_source=unsplash&amp;utm_medium=referral&amp;utm_content=creditCopyText\">Unsplash</a></span>\n",
    "\n",
    "### Business Understanding\n",
    "\n",
    "Imagine you work for a company that sells widgets<sup>1</sup> and your boss has asked you to look into the sales data across your media markets for this year. She wants to know:\n",
    "\n",
    "1. What sales volume do we have in a typical market?\n",
    "2. How variable are sales across markets?\n",
    "3. If we have 25k more dollars to spend in advertising per market, should we spend it on TV, radio, or newspaper ads?\n",
    "\n",
    "<sup>1</sup>*Here we are using the [second definition](https://www.merriam-webster.com/dictionary/widget) of widget: \"an unnamed article considered for purposes of hypothetical example\"*\n",
    "\n",
    "### Data Understanding\n",
    "\n",
    "For this lab we will be using a popular dataset known as the \"Advertising Dataset\". It comes from [_An Introduction to Statistical Learning with Applications in R_](https://statlearning.com) by G. James, D. Witten,  T. Hastie and R. Tibshirani. We have downloaded this dataset for you and stored it in this repository.\n",
    "\n",
    "This dataset contains four lists. Each number in each list represents the value for that list in a given market. The four lists are:\n",
    "\n",
    "1. `sales`: the number of widgets sold (in thousands)\n",
    "2. `tv`: the amount of money (in thousands of dollars) spent on TV ads\n",
    "3. `radio`: the amount of money (in thousands of dollars) spent on radio ads\n",
    "4. `newspaper`: the amount of money (in thousands of dollars) spent on newspaper ads\n",
    "\n",
    "So, for example:\n",
    "- the **third number** from each list represents the value of `sales`, `tv`, `radio`, and `newspaper` in **one** market,\n",
    "- the **fourth number** from each list represents the value of `sales`, `tv`, `radio`, and `newspaper` in **another** market,\n",
    "\n",
    "and so on.\n",
    "\n",
    "\n",
    "### Requirements\n",
    "\n",
    "#### 1. Sales Data Summary\n",
    "\n",
    "Write code that describes the number of markets a given list has records for, as well as the sales numbers for the markets with the minimum and maximum sales.\n",
    "\n",
    "#### 2. Typical Sales Volume\n",
    "\n",
    "Use a measure of central tendency to describe a \"typical\" market's sales.\n",
    "\n",
    "#### 3. Dispersion of Sales Volume\n",
    "\n",
    "Use a measure of dispersion to describe how variable sales are across markets.\n",
    "\n",
    "#### 4. Correlations between Advertising Expenditure and Sales\n",
    "\n",
    "Calculate the correlation between TV, radio, and newspaper ad spending and widget sales.\n",
    "\n",
    "#### 5. Where to Spend Additional Dollars\n",
    "\n",
    "Use the findings from step 4 to make a recommendation.\n",
    "\n",
    "## Sales Data Summary\n",
    "\n",
    "In the cell below, we've opened up the dataset and loaded it into lists named `sales`, `tv`, `radio`, and `newspaper`."
   ]
  },
  {
   "cell_type": "code",
   "execution_count": 1,
   "metadata": {},
   "outputs": [
    {
     "data": {
      "text/plain": [
       "[22.1, 10.4, 9.3, 18.5, 12.9, 7.2, 11.8, 13.2, 4.8, 10.6]"
      ]
     },
     "execution_count": 1,
     "metadata": {},
     "output_type": "execute_result"
    }
   ],
   "source": [
    "# Run this cell without changes\n",
    "import pandas as pd\n",
    "\n",
    "data = pd.read_csv(\"advertising.csv\", index_col=0)\n",
    "\n",
    "sales = list(data[\"sales\"])\n",
    "tv = list(data[\"TV\"])\n",
    "radio = list(data[\"radio\"])\n",
    "newspaper = list(data[\"newspaper\"])\n",
    "\n",
    "# display the first 10 sales amounts\n",
    "sales[:10]"
   ]
  },
  {
   "cell_type": "code",
   "execution_count": 2,
   "metadata": {},
   "outputs": [
    {
     "data": {
      "text/html": [
       "<div>\n",
       "<style scoped>\n",
       "    .dataframe tbody tr th:only-of-type {\n",
       "        vertical-align: middle;\n",
       "    }\n",
       "\n",
       "    .dataframe tbody tr th {\n",
       "        vertical-align: top;\n",
       "    }\n",
       "\n",
       "    .dataframe thead th {\n",
       "        text-align: right;\n",
       "    }\n",
       "</style>\n",
       "<table border=\"1\" class=\"dataframe\">\n",
       "  <thead>\n",
       "    <tr style=\"text-align: right;\">\n",
       "      <th></th>\n",
       "      <th>TV</th>\n",
       "      <th>radio</th>\n",
       "      <th>newspaper</th>\n",
       "      <th>sales</th>\n",
       "    </tr>\n",
       "  </thead>\n",
       "  <tbody>\n",
       "    <tr>\n",
       "      <th>1</th>\n",
       "      <td>230.1</td>\n",
       "      <td>37.8</td>\n",
       "      <td>69.2</td>\n",
       "      <td>22.1</td>\n",
       "    </tr>\n",
       "    <tr>\n",
       "      <th>2</th>\n",
       "      <td>44.5</td>\n",
       "      <td>39.3</td>\n",
       "      <td>45.1</td>\n",
       "      <td>10.4</td>\n",
       "    </tr>\n",
       "    <tr>\n",
       "      <th>3</th>\n",
       "      <td>17.2</td>\n",
       "      <td>45.9</td>\n",
       "      <td>69.3</td>\n",
       "      <td>9.3</td>\n",
       "    </tr>\n",
       "    <tr>\n",
       "      <th>4</th>\n",
       "      <td>151.5</td>\n",
       "      <td>41.3</td>\n",
       "      <td>58.5</td>\n",
       "      <td>18.5</td>\n",
       "    </tr>\n",
       "    <tr>\n",
       "      <th>5</th>\n",
       "      <td>180.8</td>\n",
       "      <td>10.8</td>\n",
       "      <td>58.4</td>\n",
       "      <td>12.9</td>\n",
       "    </tr>\n",
       "    <tr>\n",
       "      <th>...</th>\n",
       "      <td>...</td>\n",
       "      <td>...</td>\n",
       "      <td>...</td>\n",
       "      <td>...</td>\n",
       "    </tr>\n",
       "    <tr>\n",
       "      <th>196</th>\n",
       "      <td>38.2</td>\n",
       "      <td>3.7</td>\n",
       "      <td>13.8</td>\n",
       "      <td>7.6</td>\n",
       "    </tr>\n",
       "    <tr>\n",
       "      <th>197</th>\n",
       "      <td>94.2</td>\n",
       "      <td>4.9</td>\n",
       "      <td>8.1</td>\n",
       "      <td>9.7</td>\n",
       "    </tr>\n",
       "    <tr>\n",
       "      <th>198</th>\n",
       "      <td>177.0</td>\n",
       "      <td>9.3</td>\n",
       "      <td>6.4</td>\n",
       "      <td>12.8</td>\n",
       "    </tr>\n",
       "    <tr>\n",
       "      <th>199</th>\n",
       "      <td>283.6</td>\n",
       "      <td>42.0</td>\n",
       "      <td>66.2</td>\n",
       "      <td>25.5</td>\n",
       "    </tr>\n",
       "    <tr>\n",
       "      <th>200</th>\n",
       "      <td>232.1</td>\n",
       "      <td>8.6</td>\n",
       "      <td>8.7</td>\n",
       "      <td>13.4</td>\n",
       "    </tr>\n",
       "  </tbody>\n",
       "</table>\n",
       "<p>200 rows × 4 columns</p>\n",
       "</div>"
      ],
      "text/plain": [
       "        TV  radio  newspaper  sales\n",
       "1    230.1   37.8       69.2   22.1\n",
       "2     44.5   39.3       45.1   10.4\n",
       "3     17.2   45.9       69.3    9.3\n",
       "4    151.5   41.3       58.5   18.5\n",
       "5    180.8   10.8       58.4   12.9\n",
       "..     ...    ...        ...    ...\n",
       "196   38.2    3.7       13.8    7.6\n",
       "197   94.2    4.9        8.1    9.7\n",
       "198  177.0    9.3        6.4   12.8\n",
       "199  283.6   42.0       66.2   25.5\n",
       "200  232.1    8.6        8.7   13.4\n",
       "\n",
       "[200 rows x 4 columns]"
      ]
     },
     "execution_count": 2,
     "metadata": {},
     "output_type": "execute_result"
    }
   ],
   "source": [
    "data"
   ]
  },
  {
   "cell_type": "markdown",
   "metadata": {},
   "source": [
    "Replace `None` with appropriate code so that this cell prints out the correct information. For this part, you only need to use the `sales` variable.\n",
    "\n",
    "**Reminder**: Replace `None` with code that **calculates** the answer.  Don't calculate the answer by hand and then replace `None` with the number of your answer! "
   ]
  },
  {
   "cell_type": "code",
   "execution_count": 4,
   "metadata": {},
   "outputs": [
    {
     "name": "stdout",
     "output_type": "stream",
     "text": [
      "\n",
      "This dataset contains records for 200 markets\n",
      "\n",
      "The fewest sales for any market was 1.6 thousand widgets\n",
      "\n",
      "The most sales for any market was 27.0 thousand widgets\n",
      "\n"
     ]
    }
   ],
   "source": [
    "# Replace None with appropriate code\n",
    "num_markets = data.shape[0]\n",
    "min_sales = min(sales)\n",
    "max_sales = max(sales)\n",
    "\n",
    "print(f\"\"\"\n",
    "This dataset contains records for {num_markets} markets\n",
    "\n",
    "The fewest sales for any market was {min_sales} thousand widgets\n",
    "\n",
    "The most sales for any market was {max_sales} thousand widgets\n",
    "\"\"\")"
   ]
  },
  {
   "cell_type": "markdown",
   "metadata": {},
   "source": [
    "Run this code to create a histogram of all sales data:"
   ]
  },
  {
   "cell_type": "code",
   "execution_count": 45,
   "metadata": {},
   "outputs": [
    {
     "data": {
      "image/png": "[encoded data removed]",
      "text/plain": [
       "<Figure size 1800x1080 with 1 Axes>"
      ]
     },
     "metadata": {
      "needs_background": "light"
     },
     "output_type": "display_data"
    }
   ],
   "source": [
    "# Run this cell without changes\n",
    "import matplotlib.pyplot as plt\n",
    "%matplotlib inline\n",
    "\n",
    "fig, ax = plt.subplots(figsize=(25, 15 ))\n",
    "\n",
    "ax.hist(sales, bins=15, edgecolor='black', color='red')\n",
    "\n",
    "ax.set_xlabel(\"Sales (thousands of widgets)\")\n",
    "ax.set_ylabel(\"Count\")\n",
    "\n",
    "ax.set_title(\"Distribution of Sales across Markets\");"
   ]
  },
  {
   "cell_type": "code",
   "execution_count": 50,
   "metadata": {},
   "outputs": [
    {
     "data": {
      "image/png": "[encoded data removed]",
      "text/plain": [
       "<Figure size 720x360 with 1 Axes>"
      ]
     },
     "metadata": {
      "needs_background": "light"
     },
     "output_type": "display_data"
    }
   ],
   "source": [
    "# Run this cell without changes\n",
    "import matplotlib.pyplot as plt\n",
    "%matplotlib inline\n",
    "\n",
    "fig, ax = plt.subplots(figsize=(10, 5))\n",
    "\n",
    "ax.hist(sales, bins=30, edgecolor='black', color='green')\n",
    "\n",
    "ax.set_xlabel(\"Sales (thousands of widgets)\")\n",
    "ax.set_ylabel(\"Count\")\n",
    "\n",
    "ax.set_title(\"Distribution of Sales across Markets\")\n",
    "plt.axvline(np.mean(sales), color='black', linestyle='dashed', linewidth=1, label='mean')\n",
    "plt.axvline(np.median(sales), color='red', linestyle='dashed', linewidth=1, label='median')\n",
    "plt.legend();"
   ]
  },
  {
   "cell_type": "markdown",
   "metadata": {},
   "source": [
    "## Typical Sales Volume\n",
    "\n",
    "Now we should be able to address the first business question: _What sales volume do we have in a typical market?_\n",
    "\n",
    "That sounds like a question to be answered by a **measure of central tendency**.\n",
    "\n",
    "Reminder: the three measures of central tendency we've introduced are:\n",
    "\n",
    " - Mean\n",
    " - Median\n",
    " - Mode \n",
    "\n",
    "Choose the measure that seems most reasonable to you (it's a judgment call — there isn't always a single correct answer!) and complete the cell below, using NumPy or SciPy to compute the measure."
   ]
  },
  {
   "cell_type": "code",
   "execution_count": 9,
   "metadata": {},
   "outputs": [
    {
     "name": "stdout",
     "output_type": "stream",
     "text": [
      "mean is 14.0225 thousand\n",
      "median is 12.9 thousand\n",
      "mode is [9.7] thousand\n"
     ]
    }
   ],
   "source": [
    "print('mean is', np.mean(sales), 'thousand')\n",
    "print('median is', np.median(sales), 'thousand')\n",
    "print('mode is', stats.mode(sales).mode, 'thousand')"
   ]
  },
  {
   "cell_type": "code",
   "execution_count": 24,
   "metadata": {},
   "outputs": [
    {
     "name": "stdout",
     "output_type": "stream",
     "text": [
      "\n",
      "Typical sales volume is 14 thousand widgets\n",
      "\n",
      "I chose the mean as the relevant measure because the bars of the histogram are relatively symmetrical with no clear outliers.\n",
      "\n"
     ]
    }
   ],
   "source": [
    "# Replace None or <None> with appropriate code\n",
    "\n",
    "import numpy as np\n",
    "from scipy import stats\n",
    "\n",
    "# Assign measure_central_tendency to the mean, median, or mode of the sales data\n",
    "measure_central_tendency = int(np.mean(sales))\n",
    "\n",
    "print(f\"\"\"\n",
    "Typical sales volume is {measure_central_tendency} thousand widgets\n",
    "\n",
    "I chose the mean as the relevant measure because the bars of the histogram are relatively symmetrical with no clear outliers.\n",
    "\"\"\")\n"
   ]
  },
  {
   "cell_type": "markdown",
   "metadata": {},
   "source": [
    "## Dispersion of Sales Volume\n",
    "\n",
    "Now that we have a number to represent the typical sales volume, let's answer: *How variable are sales across markets?*\n",
    "\n",
    "That sounds like a question to be answered by a **measure of dispersion** (also known as a measure of spread).\n",
    "\n",
    "Reminder: the measures of dispersion we've introduced are:\n",
    "\n",
    " - (Average) absolute deviation\n",
    " - Variance\n",
    " - Standard deviation\n",
    " - Interquartile range\n",
    "\n",
    "Choose the measure that seems the most reasonable to you, and write up your answer in the cell below, following the format from the previous question (first calculating the measure, then explaining your answer)."
   ]
  },
  {
   "cell_type": "code",
   "execution_count": 66,
   "metadata": {
    "scrolled": true
   },
   "outputs": [
    {
     "name": "stdout",
     "output_type": "stream",
     "text": [
      "variance is 27.22\n",
      "standard deviation is 5.22 thousand.\n"
     ]
    }
   ],
   "source": [
    "# Your answer here\n",
    "print('variance is', round(np.var(sales, ddof=1), 2))\n",
    "print('standard deviation is', round(np.std(sales, ddof=1), 2), 'thousand.')"
   ]
  },
  {
   "cell_type": "code",
   "execution_count": 65,
   "metadata": {},
   "outputs": [
    {
     "data": {
      "text/plain": [
       "0.37"
      ]
     },
     "execution_count": 65,
     "metadata": {},
     "output_type": "execute_result"
    }
   ],
   "source": [
    "s = round(np.std(sales, ddof=1), 2)\n",
    "mean = np.mean(sales)\n",
    "cv = s / mean\n",
    "round(cv, 2)"
   ]
  },
  {
   "cell_type": "markdown",
   "metadata": {},
   "source": [
    "**Explanation 1**\n",
    "\n",
    "The standard deviation is 5220 (5.22 thousand). This informs me that the volumes of sales are clustered close to the mean with no significant deviations. To further confirm my inference, I calculated the coefficient of variation which divides the standard deviation of the sale by the mean. The resulting ratio is 0.37. According to coefficient of variation, CV < 1 means the standard deviation is *low* relative to the mean. Furthermore, the variance is 27.22. This a relatively small variance which confirms the fact that amount of sales are clustered close to the mean."
   ]
  },
  {
   "cell_type": "code",
   "execution_count": 60,
   "metadata": {},
   "outputs": [
    {
     "name": "stdout",
     "output_type": "stream",
     "text": [
      "Q1 is 10.4\n",
      "Q3 is 17.4\n",
      "Median is 12.9\n",
      "Interquartile Range is 7.0\n"
     ]
    }
   ],
   "source": [
    "Q1 = np.percentile(sales, 25)\n",
    "Q3 = np.percentile(sales, 75)\n",
    "median = np.percentile(sales, 50)\n",
    "IQR = Q3 - Q1\n",
    "print('Q1 is', round(Q1, 1))\n",
    "print('Q3 is', Q3)\n",
    "print('Median is',median)\n",
    "print('Interquartile Range is', round(IQR, 1))"
   ]
  },
  {
   "cell_type": "code",
   "execution_count": 67,
   "metadata": {},
   "outputs": [
    {
     "data": {
      "image/png": "[encoded data removed]",
      "text/plain": [
       "<Figure size 720x360 with 1 Axes>"
      ]
     },
     "metadata": {},
     "output_type": "display_data"
    }
   ],
   "source": [
    "plt.style.use('ggplot')\n",
    "fig, ax = plt.subplots(figsize=(10, 5))\n",
    "ax.boxplot(sales, vert = 0)\n",
    "plt.axvline(np.mean(sales), color='black', linestyle='dashed', linewidth=1, label='mean');"
   ]
  },
  {
   "cell_type": "markdown",
   "metadata": {},
   "source": [
    "**Explanation 2**\n",
    "\n",
    "\n",
    "The boxplot above visualizes the interquartile range. From this we can infer that the median doesn't lie in the centre and is skewed a little bit to the left therefore the median sales are closer the 25th percentile."
   ]
  },
  {
   "cell_type": "markdown",
   "metadata": {},
   "source": [
    "## Correlations between Advertising Expenditure and Sales\n",
    "\n",
    "Now that we have a general understanding of the distribution of the sales data, we can start to answer: *If we have 25k more dollars to spend in advertising per market, should we spend it on TV, radio, or newspaper ads?*\n",
    "\n",
    "(Eventually we will learn more sophisticated multivariate modeling techniques that will allow us to simulate the impacts of different choices here such as *given TV spending of $x_1$ and radio spending of $x_2$, how would increasing newspaper spending by 25k impact $y$*?, but for now we will just use the tools we have learned so far.)\n",
    "\n",
    "In order to make this recommendation, let's find the **correlation between each advertising medium and the associated sales**.\n",
    "\n",
    "(Recall that *covariance* is the numerator of the correlation formula, and that we typically use correlation rather than just covariance because its magnitude is more interpretable.)\n",
    "\n",
    "In the following cell, compute the correlation between `sales` and `tv`, `radio`, and `newspaper` using NumPy."
   ]
  },
  {
   "cell_type": "code",
   "execution_count": 69,
   "metadata": {},
   "outputs": [
    {
     "name": "stdout",
     "output_type": "stream",
     "text": [
      "Correlation of Sales and TV Ad Spending: 0.78\n",
      "Correlation of Sales and Radio Ad Spending: 0.58\n",
      "Correlation of Sales and Newspaper Ad Spending: 0.23\n"
     ]
    }
   ],
   "source": [
    "# Replace None with appropriate code\n",
    "\n",
    "tv_corr = np.corrcoef(sales, tv)\n",
    "radio_corr = np.corrcoef(sales, radio)\n",
    "newspaper_corr = np.corrcoef(sales, newspaper)\n",
    "\n",
    "print(\"Correlation of Sales and TV Ad Spending:\", round(tv_corr[0][1], 2))\n",
    "print(\"Correlation of Sales and Radio Ad Spending:\", round(radio_corr[0][1], 2))\n",
    "print(\"Correlation of Sales and Newspaper Ad Spending:\", round(newspaper_corr[0][1], 2))"
   ]
  },
  {
   "cell_type": "markdown",
   "metadata": {},
   "source": [
    "Which type of ad spending has the highest correlation?"
   ]
  },
  {
   "cell_type": "code",
   "execution_count": 70,
   "metadata": {},
   "outputs": [
    {
     "name": "stdout",
     "output_type": "stream",
     "text": [
      "TV has the highest correlation with sales\n"
     ]
    }
   ],
   "source": [
    "# Replace <None> with TV, radio, or newspaper\n",
    "print(\"TV has the highest correlation with sales\")"
   ]
  },
  {
   "cell_type": "markdown",
   "metadata": {},
   "source": [
    "Let's also plot out each of the ad types vs. sales:"
   ]
  },
  {
   "cell_type": "code",
   "execution_count": 71,
   "metadata": {},
   "outputs": [
    {
     "data": {
      "image/png": "[encoded data removed]",
      "text/plain": [
       "<Figure size 720x216 with 3 Axes>"
      ]
     },
     "metadata": {},
     "output_type": "display_data"
    }
   ],
   "source": [
    "# Run this cell without changes\n",
    "\n",
    "fig, (ax1, ax2, ax3) = plt.subplots(ncols=3, figsize=(10,3), sharey=True)\n",
    "\n",
    "ax1.scatter(tv, sales)\n",
    "ax2.scatter(radio, sales)\n",
    "ax3.scatter(newspaper, sales)\n",
    "\n",
    "ax1.set_xlabel(\"TV\")\n",
    "ax2.set_xlabel(\"Radio\")\n",
    "ax3.set_xlabel(\"Newspaper\")\n",
    "\n",
    "ax1.set_ylabel(\"Sales\")\n",
    "\n",
    "fig.suptitle(\"Advertising Expenditure vs. Sales Across Media\");"
   ]
  },
  {
   "cell_type": "markdown",
   "metadata": {},
   "source": [
    "## Where to Spend Additional Dollars\n",
    "\n",
    "Based on the correlation numbers and a visual inspection of those plots, make a recommendation to your boss about where to spend 25k extra dollars per market and why."
   ]
  },
  {
   "cell_type": "code",
   "execution_count": null,
   "metadata": {},
   "outputs": [],
   "source": [
    "# Your answer here\n"
   ]
  },
  {
   "cell_type": "markdown",
   "metadata": {},
   "source": [
    "**Increase TV ad spending per market**\n",
    "\n",
    "* The scatter plot and correlation results show us that an increase in TV add is relative to an increase in sales amount of widgets. Therefore, to increase the sales amount of widgets, allocating the extra 25,000 dollars to TV ad spending is guaranteed to see a relative increase in sales of widgets and is a less riskier option than allocating funds to Radio or Newspaper. This is attributed to the fact that despite both radio and newspaper having positive correlations, there is no guarantee that an increase in Ad spending for both types of media will guarantee and increase in sales of widgets. This is confirmed by the scatter plots of Radio and Newspaper showing somes sales values being on the lower end despite having a high AD expenditure"
   ]
  },
  {
   "cell_type": "markdown",
   "metadata": {},
   "source": [
    "## Conclusion\n",
    "\n",
    "In this cumulative lab, you practiced analyzing sales and advertising data in order to make a business recommendation. Unlike some other labs, there was more ambiguity and we asked you to make some judgment calls in order to use data science concepts for a business audience. In the rest of the course, you will continue building your technical skills and technical communication skills!"
   ]
  }
 ],
 "metadata": {
  "kernelspec": {
   "display_name": "Python (learn env)",
   "language": "python",
   "name": "learn-env"
  },
  "language_info": {
   "codemirror_mode": {
    "name": "ipython",
    "version": 3
   },
   "file_extension": ".py",
   "mimetype": "text/x-python",
   "name": "python",
   "nbconvert_exporter": "python",
   "pygments_lexer": "ipython3",
   "version": "3.8.5"
  }
 },
 "nbformat": 4,
 "nbformat_minor": 4
}
